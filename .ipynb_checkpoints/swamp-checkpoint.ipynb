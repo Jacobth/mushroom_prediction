{
 "cells": [
  {
   "cell_type": "markdown",
   "metadata": {},
   "source": [
    "# Evalute images of three different mushrooms\n",
    "\n",
    "The neural network can predict images of three common mushroms. Few examples were used to train the model but it still generate decent accuracy.\n",
    "\n",
    "<table width=\"100%\" border=\"0\">\n",
    "  <tr>    \n",
    "  <td><img src=\"a.jpg\" style=\"width: 200px;\"/></td>\n",
    "  <td><img src=\"f.jpg\" style=\"width: 200px;\"/></td>\n",
    "  <td><img src=\"k.jpg\" style=\"width: 200px;\"/></td>\n",
    "  </tr>\n",
    "</table>\n",
    "\n",
    "How well will the network predict these three different images?"
   ]
  },
  {
   "cell_type": "code",
   "execution_count": 1,
   "metadata": {},
   "outputs": [
    {
     "name": "stderr",
     "output_type": "stream",
     "text": [
      "c:\\users\\conta\\anaconda3\\envs\\tensorflow\\lib\\site-packages\\h5py\\__init__.py:36: FutureWarning: Conversion of the second argument of issubdtype from `float` to `np.floating` is deprecated. In future, it will be treated as `np.float64 == np.dtype(float).type`.\n",
      "  from ._conv import register_converters as _register_converters\n",
      "Using TensorFlow backend.\n"
     ]
    },
    {
     "name": "stdout",
     "output_type": "stream",
     "text": [
      "[[1.0000000e+00 9.1836178e-10 8.9905256e-14]]\n",
      "[[3.0667629e-04 9.9969304e-01 3.4459975e-07]]\n",
      "[[0.351693   0.01296634 0.63534063]]\n"
     ]
    },
    {
     "data": {
      "text/plain": [
       "array([[0.351693  , 0.01296634, 0.63534063]], dtype=float32)"
      ]
     },
     "execution_count": 1,
     "metadata": {},
     "output_type": "execute_result"
    }
   ],
   "source": [
    "import os\n",
    "import numpy as np\n",
    "from keras.models import Sequential\n",
    "from keras.models import load_model\n",
    "from keras.layers import Activation, Dropout, Flatten, Dense\n",
    "from keras.preprocessing.image import ImageDataGenerator\n",
    "from keras.layers import Convolution2D, MaxPooling2D, ZeroPadding2D\n",
    "from keras import optimizers\n",
    "from keras.preprocessing import image\n",
    "import sys\n",
    "\n",
    "# dimensions of our images.\n",
    "img_width, img_height = 150, 150\n",
    "\n",
    "train_data_dir = 'data/train'\n",
    "validation_data_dir = 'data/validation'\n",
    "\n",
    "datagen = ImageDataGenerator(rescale=1./255)\n",
    "\n",
    "def load_image(img_path):\n",
    "\n",
    "    img = image.load_img(img_path, target_size=(150, 150))\n",
    "    img_tensor = image.img_to_array(img)                    # (height, width, channels)\n",
    "    img_tensor = np.expand_dims(img_tensor, axis=0)         # (1, height, width, channels), add a dimension because the model expects this shape: (batch_size, height, width, channels)\n",
    "    img_tensor /= 255.                                      # imshow expects values in the range [0, 1]\n",
    "\n",
    "    return img_tensor\n",
    "\n",
    "def create_model():\n",
    "\n",
    "    model = Sequential()\n",
    "    model.add(Convolution2D(32, 3, 3, input_shape=(img_width, img_height,3)))\n",
    "    model.add(Activation('relu'))\n",
    "    model.add(MaxPooling2D(pool_size=(2, 2)))\n",
    "\n",
    "    model.add(Convolution2D(32, 3, 3))\n",
    "    model.add(Activation('relu'))\n",
    "    model.add(MaxPooling2D(pool_size=(2, 2)))\n",
    "\n",
    "    model.add(Convolution2D(64, 3, 3))\n",
    "    model.add(Activation('relu'))\n",
    "    model.add(MaxPooling2D(pool_size=(2, 2)))\n",
    "\n",
    "    model.add(Flatten())\n",
    "    model.add(Dense(64))\n",
    "    model.add(Activation('relu'))\n",
    "    model.add(Dropout(0.5))\n",
    "    model.add(Dense(3))\n",
    "    model.add(Activation('softmax'))\n",
    "    return model\n",
    "\n",
    "def evaluate(file):\n",
    "\n",
    "    model = load_model('basic_cnn_20_epochs_model.h5') \n",
    "    #model.load_weights('models/basic_cnn_20_epochs_weights.h5')\n",
    "\n",
    "    img = load_image(file)\n",
    "    pred = model.predict(img)\n",
    "    print(pred)\n",
    "\n",
    "    return pred\n",
    "\n",
    "def train():\n",
    "\n",
    "    model = create_model()\n",
    "    model.compile(loss='sparse_categorical_crossentropy',\n",
    "                optimizer='rmsprop',\n",
    "                metrics=['accuracy'])\n",
    "\n",
    "    # automagically retrieve images and their classes for train and validation sets\n",
    "    train_generator = datagen.flow_from_directory(\n",
    "            train_data_dir,\n",
    "            target_size=(img_width, img_height),\n",
    "            batch_size=16,\n",
    "            class_mode='sparse')\n",
    "\n",
    "    validation_generator = datagen.flow_from_directory(\n",
    "            validation_data_dir,\n",
    "            target_size=(img_width, img_height),\n",
    "            batch_size=32,\n",
    "            class_mode='sparse')\n",
    "\n",
    "    nb_epoch = 30\n",
    "    nb_train_samples = 156\n",
    "    nb_validation_samples = 42\n",
    "\n",
    "    model.fit_generator(\n",
    "            train_generator,\n",
    "            samples_per_epoch=nb_train_samples,\n",
    "            nb_epoch=nb_epoch,\n",
    "            validation_data=validation_generator,\n",
    "            nb_val_samples=nb_validation_samples)\n",
    "\n",
    "    model.save_weights('basic_cnn_20_epochs_weights.h5')\n",
    "    model.save(\"basic_cnn_20_epochs_model.h5\", True)\n",
    "    model.evaluate_generator(validation_generator, nb_validation_samples)\n",
    "    return 0\n",
    "\n",
    "#path = str(sys.argv[1])\n",
    "\n",
    "evaluate('a.jpg')\n",
    "evaluate('f.jpg')\n",
    "evaluate('k.jpg')\n",
    "#train()"
   ]
  },
  {
   "cell_type": "markdown",
   "metadata": {},
   "source": [
    "# Results\n",
    "The model were not sure about the last sample. The first image were most likely used in the training process."
   ]
  }
 ],
 "metadata": {
  "kernelspec": {
   "display_name": "Python 3",
   "language": "python",
   "name": "python3"
  },
  "language_info": {
   "codemirror_mode": {
    "name": "ipython",
    "version": 3
   },
   "file_extension": ".py",
   "mimetype": "text/x-python",
   "name": "python",
   "nbconvert_exporter": "python",
   "pygments_lexer": "ipython3",
   "version": "3.5.5"
  }
 },
 "nbformat": 4,
 "nbformat_minor": 2
}
